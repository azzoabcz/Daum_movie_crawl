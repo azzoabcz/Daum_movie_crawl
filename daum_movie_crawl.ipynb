{
 "cells": [
  {
   "cell_type": "code",
   "execution_count": 1,
   "metadata": {},
   "outputs": [],
   "source": [
    "# 다음영화 정보 크롤링"
   ]
  },
  {
   "cell_type": "code",
   "execution_count": 13,
   "metadata": {},
   "outputs": [],
   "source": [
    "from selenium import webdriver\n",
    "from bs4 import BeautifulSoup\n",
    "import pandas as pd\n",
    "import numpy as np\n",
    "from pandas import Series,DataFrame\n",
    "\n",
    "import time\n",
    "import glob\n",
    "import re\n",
    "\n",
    "path = \"./chromedriver_win32/chromedriver.exe\"\n",
    "driver = webdriver.Chrome(path)"
   ]
  },
  {
   "cell_type": "code",
   "execution_count": 14,
   "metadata": {},
   "outputs": [],
   "source": [
    "def movie_content(movie_id):\n",
    "    url = 'https://movie.daum.net/moviedb/main?'\n",
    "    driver.get(f'{url}'\n",
    "              f'movieId={movie_id+1}')   # 0번째 movie_id는 없으니깐 +1\n",
    "    html = driver.page_source\n",
    "    soup = BeautifulSoup(html,'html.parser')\n",
    "    try:\n",
    "        driver.find_element_by_xpath('//*[@id=\"descMoreButton\"]').click()\n",
    "#         time.sleep(0.3)\n",
    "\n",
    "    except:\n",
    "        pass\n",
    "#     해당 movie_id의 영화정보가 없을 경우\n",
    "    if soup.select('#dkContent.cont_error'):\n",
    "        return []  # movie_id의 영화 정보가 없을 경우\n",
    "    # 줄거리\n",
    "    stories = soup.select('#mArticle > div.detail_movie.detail_main') \n",
    "    for story in stories:\n",
    "        restory = soup.select_one('p').text.strip()\n",
    "    all_contents = soup.select('#mArticle > div.detail_movie.detail_main > div.movie_detail > div.movie_basic > div.main_detail > div.detail_summarize')\n",
    "    for all_content in all_contents:\n",
    "        untitle = soup.select_one('div > div.subject_movie > strong').text.strip()\n",
    "        title = untitle[:-6] # 제목\n",
    "        title_eng = soup.select('div > div.subject_movie > span.txt_origin')[0].text.strip() # 영어제목\n",
    "        grade = soup.select('div > div.subject_movie > a > em')[0].text.strip() # 평점\n",
    "        ungenres =soup.select('div > dl.list_movie.list_main > dd.txt_main') # 장르\n",
    "        if len(ungenres) == 2:\n",
    "            genres=ungenres[0].text.strip()\n",
    "        else:\n",
    "            genres=\"\"\n",
    "        uncountry = soup.select('div > dl.list_movie.list_main > dd')\n",
    "        if len(uncountry) == 6: # 나라\n",
    "            country = uncountry[1].text.strip().replace(\"\\t\",\"\").replace(\"\\n\",\"\")\n",
    "        else:\n",
    "            country=\"\"\n",
    "        unrelease_date =soup.select('div > dl.list_movie.list_main > dd.txt_main') # 개봉일\n",
    "#         print(unrelease_date)\n",
    "        if len(unrelease_date) == 1:\n",
    "            join_release_date = ''\n",
    "        elif len(unrelease_date) > 1:\n",
    "            nrelease_date = unrelease_date[-1].text.strip()\n",
    "            rerelease_date = re.findall('\\d+', nrelease_date)\n",
    "            join_release_date = \".\".join(rerelease_date)\n",
    "        else:\n",
    "            join_release_date = \"\"\n",
    "        unrating = soup.select('div > dl.list_movie.list_main > dd')\n",
    "        if len(unrating) == 6:      # 영화정보 : 상영등급\n",
    "            rating = unrating[3].text.strip()\n",
    "        else:\n",
    "            rating=\"\"\n",
    "    # 배우가 한명, 여러명, 없을경우\n",
    "    directors = soup.select('#mArticle > div.detail_movie.detail_main > div.movie_detail > div.movie_basic > div.main_detail > div.detail_summarize > div > dl.list_movie.list_main > dd.type_ellipsis')\n",
    "    if directors:\n",
    "        re_directors = directors[0].text.replace(\"\\t\",\"\").replace(\"\\n\",\"\")\n",
    "        director = re.sub(r'\\([^)]*\\)',\"\",re_directors).strip()\n",
    "    else:\n",
    "        director=\"\"\n",
    "    if len(directors) == 2:\n",
    "        actors = directors[1].text.replace(\"\\t\",\"\").replace(\"\\n\",\"\")\n",
    "        actor = re.sub(r'\\([^)]*\\)',\"\",actors).strip()\n",
    "    elif len(directors) == 1:\n",
    "        actor=\"\"\n",
    "    else:\n",
    "        actor=\"\"\n",
    "    unreview = soup.select('#mainGradeDiv')\n",
    "    for review in unreview:\n",
    "        review_counts=soup.select('span.num_review')\n",
    "#         print(review_counts)\n",
    "        if review_counts:\n",
    "            review_count = review_counts[0].text.strip()\n",
    "            rereview_count = re.findall('\\d+', review_count)[0]\n",
    "        else:\n",
    "            rereview_count=\"\"\n",
    "        \n",
    "    return [movie_id+1,title,title_eng,grade,genres,country,join_release_date,rating,director,actor,restory,rereview_count]"
   ]
  },
  {
   "cell_type": "code",
   "execution_count": 15,
   "metadata": {},
   "outputs": [],
   "source": [
    "def df_movie(movie_last,movie_range):\n",
    "    get_movie_list = []\n",
    "#     random.seed(1)\n",
    "    for movie_id in range(movie_last,movie_range):\n",
    "#         movie_content(movie_id+1)안이 True 값이 있을경우에만 생성\n",
    "        if movie_content(movie_id):\n",
    "            get_movie_list.append(movie_content(movie_id))\n",
    "\n",
    "    all_df = DataFrame(get_movie_list,\n",
    "                      columns= pd.Index(['movie_id'\n",
    "                                         ,'title'\n",
    "                                         ,'title_eng'\n",
    "                                         ,'grade'\n",
    "                                         ,'genres'\n",
    "                                         ,'country'\n",
    "                                         ,'release_date'\n",
    "                                         ,'rating'\n",
    "                                         ,'director'\n",
    "                                         ,'actor'\n",
    "                                         ,'story'\n",
    "                                         ,'review_count'\n",
    "                                        ])\n",
    "                      )\n",
    "    return all_df"
   ]
  },
  {
   "cell_type": "code",
   "execution_count": 10,
   "metadata": {},
   "outputs": [],
   "source": [
    "movie_len = 200000 # 영화맥스 추측값\n",
    "file_list = glob.glob('./data/*')\n",
    "pre_count = int(file_list[-1][-10:-4]) if file_list else 0 # 초기 값"
   ]
  },
  {
   "cell_type": "code",
   "execution_count": 11,
   "metadata": {
    "scrolled": true
   },
   "outputs": [
    {
     "name": "stdout",
     "output_type": "stream",
     "text": [
      "100\n",
      "실패\n"
     ]
    }
   ],
   "source": [
    "if pre_count < movie_len:\n",
    "    count_list = list(range(pre_count, movie_len,100)) + [movie_len]\n",
    "    try:\n",
    "        for i in range(len(count_list)):\n",
    "            print(pre_count)\n",
    "            df_movie(count_list[i],count_list[i+1]).to_csv('./data/%06d.csv'%(count_list[i+1])\n",
    "                                                           ,encoding='utf-8'\n",
    "                                                           ,index=False\n",
    "                                                           )\n",
    "            pre_count = count_list[i+1]\n",
    "    except IndexError:\n",
    "        print(\"실패\")"
   ]
  },
  {
   "cell_type": "code",
   "execution_count": null,
   "metadata": {},
   "outputs": [],
   "source": []
  },
  {
   "cell_type": "code",
   "execution_count": null,
   "metadata": {},
   "outputs": [],
   "source": []
  },
  {
   "cell_type": "code",
   "execution_count": null,
   "metadata": {},
   "outputs": [],
   "source": []
  },
  {
   "cell_type": "code",
   "execution_count": null,
   "metadata": {},
   "outputs": [],
   "source": []
  },
  {
   "cell_type": "code",
   "execution_count": null,
   "metadata": {},
   "outputs": [],
   "source": []
  },
  {
   "cell_type": "code",
   "execution_count": null,
   "metadata": {},
   "outputs": [],
   "source": []
  },
  {
   "cell_type": "code",
   "execution_count": null,
   "metadata": {},
   "outputs": [],
   "source": []
  },
  {
   "cell_type": "code",
   "execution_count": null,
   "metadata": {},
   "outputs": [],
   "source": []
  },
  {
   "cell_type": "code",
   "execution_count": null,
   "metadata": {},
   "outputs": [],
   "source": []
  }
 ],
 "metadata": {
  "kernelspec": {
   "display_name": "Python 3",
   "language": "python",
   "name": "python3"
  },
  "language_info": {
   "codemirror_mode": {
    "name": "ipython",
    "version": 3
   },
   "file_extension": ".py",
   "mimetype": "text/x-python",
   "name": "python",
   "nbconvert_exporter": "python",
   "pygments_lexer": "ipython3",
   "version": "3.7.4"
  }
 },
 "nbformat": 4,
 "nbformat_minor": 2
}
